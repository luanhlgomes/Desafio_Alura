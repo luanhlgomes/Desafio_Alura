{
  "nbformat": 4,
  "nbformat_minor": 0,
  "metadata": {
    "colab": {
      "provenance": [],
      "authorship_tag": "ABX9TyPntPyaRhxCRsOV1Q+Xq5bT",
      "include_colab_link": true
    },
    "kernelspec": {
      "name": "python3",
      "display_name": "Python 3"
    },
    "language_info": {
      "name": "python"
    }
  },
  "cells": [
    {
      "cell_type": "markdown",
      "metadata": {
        "id": "view-in-github",
        "colab_type": "text"
      },
      "source": [
        "<a href=\"https://colab.research.google.com/github/luanhlgomes/Desafio_Alura/blob/main/Desafio_Alura.ipynb\" target=\"_parent\"><img src=\"https://colab.research.google.com/assets/colab-badge.svg\" alt=\"Open In Colab\"/></a>"
      ]
    },
    {
      "cell_type": "markdown",
      "source": [
        "#Instalando o SDK do Google"
      ],
      "metadata": {
        "id": "R3nax_Rx-4qq"
      }
    },
    {
      "cell_type": "code",
      "execution_count": 1,
      "metadata": {
        "id": "XIGFcOnH8aRs"
      },
      "outputs": [],
      "source": [
        "!pip install -U -q google-generativeai"
      ]
    },
    {
      "cell_type": "markdown",
      "source": [
        "#Importando bibliotecas e configuracoes iniciais"
      ],
      "metadata": {
        "id": "esDORE9T-8J8"
      }
    },
    {
      "cell_type": "code",
      "source": [
        "from pathlib import Path\n",
        "import hashlib\n",
        "import google.generativeai as genai\n",
        "from google.colab import userdata\n",
        "\n",
        "api_key = userdata.get('secretName')\n",
        "\n",
        "genai.configure(api_key=api_key)"
      ],
      "metadata": {
        "id": "xmDmWGeQ8hlV"
      },
      "execution_count": 19,
      "outputs": []
    },
    {
      "cell_type": "markdown",
      "source": [
        "# Configurações do modelo"
      ],
      "metadata": {
        "id": "RLUiHePv_o7-"
      }
    },
    {
      "cell_type": "code",
      "source": [
        "# Set up the model\n",
        "generation_config = {\n",
        "  \"temperature\": 0.9\n",
        "}"
      ],
      "metadata": {
        "id": "MQyLucfI8o0N"
      },
      "execution_count": 44,
      "outputs": []
    },
    {
      "cell_type": "code",
      "source": [
        "safety_settings = [\n",
        "  {\n",
        "    \"category\": \"HARM_CATEGORY_HARASSMENT\",\n",
        "    \"threshold\": \"BLOCK_ONLY_HIGH\"\n",
        "  },\n",
        "  {\n",
        "    \"category\": \"HARM_CATEGORY_HATE_SPEECH\",\n",
        "    \"threshold\": \"BLOCK_ONLY_HIGH\"\n",
        "  },\n",
        "  {\n",
        "    \"category\": \"HARM_CATEGORY_SEXUALLY_EXPLICIT\",\n",
        "    \"threshold\": \"BLOCK_ONLY_HIGH\"\n",
        "  },\n",
        "  {\n",
        "    \"category\": \"HARM_CATEGORY_DANGEROUS_CONTENT\",\n",
        "    \"threshold\": \"BLOCK_ONLY_HIGH\"\n",
        "  },\n",
        "]"
      ],
      "metadata": {
        "id": "izSFR4ia8uQL"
      },
      "execution_count": 27,
      "outputs": []
    },
    {
      "cell_type": "markdown",
      "source": [
        "#MODELO"
      ],
      "metadata": {
        "id": "86xpmtxe_syO"
      }
    },
    {
      "cell_type": "code",
      "source": [
        "system_instruction = \"Será feita perguntas sobre raça de animais, temperamento e o local de origem da raça. Caso o local de origem da raça nao seja definido, não responda a origem.\\n\"\n",
        "\n",
        "model = genai.GenerativeModel(model_name=\"gemini-1.5-pro-latest\",\n",
        "                              generation_config=generation_config,\n",
        "                              system_instruction=system_instruction,\n",
        "                              safety_settings=safety_settings)"
      ],
      "metadata": {
        "id": "0OVAodhy8wP7"
      },
      "execution_count": 45,
      "outputs": []
    },
    {
      "cell_type": "markdown",
      "source": [
        "#Informe a imagem que sera analisada"
      ],
      "metadata": {
        "id": "Yw3ciEvsASyB"
      }
    },
    {
      "cell_type": "code",
      "source": [
        "imagem = \"cachorro.jpeg\""
      ],
      "metadata": {
        "id": "aoCAS9z3_ziX"
      },
      "execution_count": 46,
      "outputs": []
    },
    {
      "cell_type": "markdown",
      "source": [
        "# Gerar resultado"
      ],
      "metadata": {
        "id": "EvEQvQEPAXIF"
      }
    },
    {
      "cell_type": "code",
      "source": [
        "response = model.start_chat(history=[\n",
        "  {\n",
        "    \"role\": \"user\",\n",
        "    \"parts\": [genai.upload_file(imagem)]\n",
        "  }\n",
        "])\n",
        "\n",
        "response.send_message(\"Qual a raça do animal na imagem? Qual o seu temperamento? Qual país de origem da raça?\")\n",
        "print(response.last.text)"
      ],
      "metadata": {
        "colab": {
          "base_uri": "https://localhost:8080/",
          "height": 34
        },
        "id": "jBLSdVdy80uL",
        "outputId": "1f5837eb-0726-425c-e9c1-a315d6596a23"
      },
      "execution_count": 47,
      "outputs": [
        {
          "output_type": "stream",
          "name": "stdout",
          "text": [
            "A raça do animal na imagem é Dachshund. O Dachshund é conhecido por ser corajoso, animado e confiante. A raça é originária da Alemanha.\n"
          ]
        }
      ]
    },
    {
      "cell_type": "code",
      "source": [],
      "metadata": {
        "id": "Z7BAugWM9Zmr"
      },
      "execution_count": 28,
      "outputs": []
    }
  ]
}